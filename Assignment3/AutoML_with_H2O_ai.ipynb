{
  "nbformat": 4,
  "nbformat_minor": 0,
  "metadata": {
    "colab": {
      "name": "AutoML with H2O.ai.ipynb",
      "version": "0.3.2",
      "provenance": [],
      "collapsed_sections": []
    },
    "kernelspec": {
      "name": "python3",
      "display_name": "Python 3"
    },
    "accelerator": "GPU"
  },
  "cells": [
    {
      "metadata": {
        "id": "bXmBFORbb-aY",
        "colab_type": "code",
        "outputId": "528c6daa-c1ba-460b-b223-b59dbb584862",
        "colab": {
          "base_uri": "https://localhost:8080/",
          "height": 339
        }
      },
      "cell_type": "code",
      "source": [
        "!pip install h2o"
      ],
      "execution_count": 0,
      "outputs": [
        {
          "output_type": "stream",
          "text": [
            "Collecting h2o\n",
            "\u001b[?25l  Downloading https://files.pythonhosted.org/packages/94/8a/cce6663380742405994eb2de6f93c93ac63fa8c026c937d7270539e16eaa/h2o-3.22.1.6.tar.gz (120.9MB)\n",
            "\u001b[K    100% |████████████████████████████████| 120.9MB 289kB/s \n",
            "\u001b[?25hRequirement already satisfied: requests in /usr/local/lib/python3.6/dist-packages (from h2o) (2.18.4)\n",
            "Requirement already satisfied: tabulate in /usr/local/lib/python3.6/dist-packages (from h2o) (0.8.3)\n",
            "Requirement already satisfied: future in /usr/local/lib/python3.6/dist-packages (from h2o) (0.16.0)\n",
            "Collecting colorama>=0.3.8 (from h2o)\n",
            "  Downloading https://files.pythonhosted.org/packages/4f/a6/728666f39bfff1719fc94c481890b2106837da9318031f71a8424b662e12/colorama-0.4.1-py2.py3-none-any.whl\n",
            "Requirement already satisfied: idna<2.7,>=2.5 in /usr/local/lib/python3.6/dist-packages (from requests->h2o) (2.6)\n",
            "Requirement already satisfied: certifi>=2017.4.17 in /usr/local/lib/python3.6/dist-packages (from requests->h2o) (2019.3.9)\n",
            "Requirement already satisfied: chardet<3.1.0,>=3.0.2 in /usr/local/lib/python3.6/dist-packages (from requests->h2o) (3.0.4)\n",
            "Requirement already satisfied: urllib3<1.23,>=1.21.1 in /usr/local/lib/python3.6/dist-packages (from requests->h2o) (1.22)\n",
            "Building wheels for collected packages: h2o\n",
            "  Building wheel for h2o (setup.py) ... \u001b[?25ldone\n",
            "\u001b[?25h  Stored in directory: /root/.cache/pip/wheels/f4/21/59/e953dbf8206d5061ce1346e119dad9ffafd7f88011430682ba\n",
            "Successfully built h2o\n",
            "Installing collected packages: colorama, h2o\n",
            "Successfully installed colorama-0.4.1 h2o-3.22.1.6\n"
          ],
          "name": "stdout"
        }
      ]
    },
    {
      "metadata": {
        "id": "KrrgB6r6bEVd",
        "colab_type": "code",
        "colab": {}
      },
      "cell_type": "code",
      "source": [
        "import h2o\n",
        "from h2o.automl import H2OAutoML\n",
        "import random, os, sys\n",
        "import psutil\n",
        "import pandas as pd\n",
        "import numpy as np\n",
        "#from tpot import TPOTClassifier\n",
        "\n",
        "#from autosklearn import  classification"
      ],
      "execution_count": 0,
      "outputs": []
    },
    {
      "metadata": {
        "id": "TDNx_iTk14bs",
        "colab_type": "text"
      },
      "cell_type": "markdown",
      "source": [
        "Define the configuration parameters and initialize the H2O"
      ]
    },
    {
      "metadata": {
        "id": "6dRhNM4mb5NI",
        "colab_type": "code",
        "outputId": "8ca2c17b-e962-4f86-e73a-c3a944aa92c9",
        "colab": {
          "base_uri": "https://localhost:8080/",
          "height": 34
        }
      },
      "cell_type": "code",
      "source": [
        "pct_memory=0.5\n",
        "virtual_memory=psutil.virtual_memory()\n",
        "min_mem_size=int(round(int(pct_memory*virtual_memory.available)/1073741824,0))\n",
        "print(min_mem_size)"
      ],
      "execution_count": 0,
      "outputs": [
        {
          "output_type": "stream",
          "text": [
            "6\n"
          ],
          "name": "stdout"
        }
      ]
    },
    {
      "metadata": {
        "id": "-ypoJkAFcLMO",
        "colab_type": "code",
        "outputId": "a8562162-e14b-4124-b2f3-404705038ed0",
        "colab": {
          "base_uri": "https://localhost:8080/",
          "height": 543
        }
      },
      "cell_type": "code",
      "source": [
        "h2o.init(strict_version_check=False,max_mem_size=min_mem_size)"
      ],
      "execution_count": 0,
      "outputs": [
        {
          "output_type": "stream",
          "text": [
            "Checking whether there is an H2O instance running at http://localhost:54321..... not found.\n",
            "Attempting to start a local H2O server...\n",
            "  Java Version: openjdk version \"10.0.2\" 2018-07-17; OpenJDK Runtime Environment (build 10.0.2+13-Ubuntu-1ubuntu0.18.04.4); OpenJDK 64-Bit Server VM (build 10.0.2+13-Ubuntu-1ubuntu0.18.04.4, mixed mode)\n",
            "  Starting server from /usr/local/lib/python3.6/dist-packages/h2o/backend/bin/h2o.jar\n",
            "  Ice root: /tmp/tmpljdlo5qh\n",
            "  JVM stdout: /tmp/tmpljdlo5qh/h2o_unknownUser_started_from_python.out\n",
            "  JVM stderr: /tmp/tmpljdlo5qh/h2o_unknownUser_started_from_python.err\n",
            "  Server is running at http://127.0.0.1:54321\n",
            "Connecting to H2O server at http://127.0.0.1:54321... successful.\n"
          ],
          "name": "stdout"
        },
        {
          "output_type": "display_data",
          "data": {
            "text/html": [
              "<div style=\"overflow:auto\"><table style=\"width:50%\"><tr><td>H2O cluster uptime:</td>\n",
              "<td>02 secs</td></tr>\n",
              "<tr><td>H2O cluster timezone:</td>\n",
              "<td>Etc/UTC</td></tr>\n",
              "<tr><td>H2O data parsing timezone:</td>\n",
              "<td>UTC</td></tr>\n",
              "<tr><td>H2O cluster version:</td>\n",
              "<td>3.22.1.6</td></tr>\n",
              "<tr><td>H2O cluster version age:</td>\n",
              "<td>14 days, 21 hours and 19 minutes </td></tr>\n",
              "<tr><td>H2O cluster name:</td>\n",
              "<td>H2O_from_python_unknownUser_w5xwe1</td></tr>\n",
              "<tr><td>H2O cluster total nodes:</td>\n",
              "<td>1</td></tr>\n",
              "<tr><td>H2O cluster free memory:</td>\n",
              "<td>6 Gb</td></tr>\n",
              "<tr><td>H2O cluster total cores:</td>\n",
              "<td>2</td></tr>\n",
              "<tr><td>H2O cluster allowed cores:</td>\n",
              "<td>2</td></tr>\n",
              "<tr><td>H2O cluster status:</td>\n",
              "<td>accepting new members, healthy</td></tr>\n",
              "<tr><td>H2O connection url:</td>\n",
              "<td>http://127.0.0.1:54321</td></tr>\n",
              "<tr><td>H2O connection proxy:</td>\n",
              "<td>None</td></tr>\n",
              "<tr><td>H2O internal security:</td>\n",
              "<td>False</td></tr>\n",
              "<tr><td>H2O API Extensions:</td>\n",
              "<td>Amazon S3, XGBoost, Algos, AutoML, Core V3, Core V4</td></tr>\n",
              "<tr><td>Python version:</td>\n",
              "<td>3.6.7 final</td></tr></table></div>"
            ],
            "text/plain": [
              "--------------------------  ---------------------------------------------------\n",
              "H2O cluster uptime:         02 secs\n",
              "H2O cluster timezone:       Etc/UTC\n",
              "H2O data parsing timezone:  UTC\n",
              "H2O cluster version:        3.22.1.6\n",
              "H2O cluster version age:    14 days, 21 hours and 19 minutes\n",
              "H2O cluster name:           H2O_from_python_unknownUser_w5xwe1\n",
              "H2O cluster total nodes:    1\n",
              "H2O cluster free memory:    6 Gb\n",
              "H2O cluster total cores:    2\n",
              "H2O cluster allowed cores:  2\n",
              "H2O cluster status:         accepting new members, healthy\n",
              "H2O connection url:         http://127.0.0.1:54321\n",
              "H2O connection proxy:\n",
              "H2O internal security:      False\n",
              "H2O API Extensions:         Amazon S3, XGBoost, Algos, AutoML, Core V3, Core V4\n",
              "Python version:             3.6.7 final\n",
              "--------------------------  ---------------------------------------------------"
            ]
          },
          "metadata": {
            "tags": []
          }
        }
      ]
    },
    {
      "metadata": {
        "id": "jdKJnlDKf_tW",
        "colab_type": "code",
        "colab": {}
      },
      "cell_type": "code",
      "source": [
        "output = pd.read_csv('API_dataset.csv')"
      ],
      "execution_count": 0,
      "outputs": []
    },
    {
      "metadata": {
        "id": "In0u_h8DccmI",
        "colab_type": "code",
        "colab": {}
      },
      "cell_type": "code",
      "source": [
        "y='label'"
      ],
      "execution_count": 0,
      "outputs": []
    },
    {
      "metadata": {
        "id": "amRZOK-cLVqJ",
        "colab_type": "code",
        "colab": {}
      },
      "cell_type": "code",
      "source": [
        "def get_independent_variables(df, targ):\n",
        "    C = [name for name in df.columns if name != targ] ## add aws colums too\n",
        "    # determine column types\n",
        "    ints, reals= [], []\n",
        "    for key, val in df.dtypes.items():\n",
        "        if key in C:\n",
        "            if val == 'int':\n",
        "                ints.append(key)           \n",
        "            else: \n",
        "                reals.append(key)    \n",
        "    x=ints+reals\n",
        "    return x"
      ],
      "execution_count": 0,
      "outputs": []
    },
    {
      "metadata": {
        "id": "hB6LSVFvKhDj",
        "colab_type": "code",
        "outputId": "614e52f9-55a9-4b21-fef1-89cd20cb4b05",
        "colab": {
          "base_uri": "https://localhost:8080/",
          "height": 34
        }
      },
      "cell_type": "code",
      "source": [
        "hf = h2o.H2OFrame(output)"
      ],
      "execution_count": 0,
      "outputs": [
        {
          "output_type": "stream",
          "text": [
            "Parse progress: |█████████████████████████████████████████████████████████| 100%\n"
          ],
          "name": "stdout"
        }
      ]
    },
    {
      "metadata": {
        "id": "kRwmwfS3ND_7",
        "colab_type": "code",
        "outputId": "78f70960-a796-4bc4-e8a6-1a6923a6709d",
        "colab": {
          "base_uri": "https://localhost:8080/",
          "height": 34
        }
      },
      "cell_type": "code",
      "source": [
        "x=get_independent_variables(output,y)\n",
        "x.pop()\n",
        "x.pop()\n",
        "x.pop()\n",
        "x"
      ],
      "execution_count": 0,
      "outputs": [
        {
          "output_type": "execute_result",
          "data": {
            "text/plain": [
              "['Text', 'IbmScore', 'GCPScore', 'AzureScore']"
            ]
          },
          "metadata": {
            "tags": []
          },
          "execution_count": 9
        }
      ]
    },
    {
      "metadata": {
        "id": "v23Nr-XWK_yM",
        "colab_type": "code",
        "colab": {}
      },
      "cell_type": "code",
      "source": [
        "run_time=500\n",
        "run_id='SOME_ID_20180617_221529' # Just some arbitrary ID\n",
        "server_path='/Users/bear/Documents/INFO_7390/H2O'\n",
        "classification=True\n",
        "scale=False\n",
        "max_models=None\n",
        "balance_y=False # balance_classes=balance_y\n",
        "balance_threshold=0.2\n",
        "project =\"automl_test\"  # project_name = project"
      ],
      "execution_count": 0,
      "outputs": []
    },
    {
      "metadata": {
        "id": "B9YeVeB0LDZQ",
        "colab_type": "code",
        "colab": {}
      },
      "cell_type": "code",
      "source": [
        "aml = H2OAutoML(max_runtime_secs=run_time,project_name = project,balance_classes=balance_y)"
      ],
      "execution_count": 0,
      "outputs": []
    },
    {
      "metadata": {
        "id": "ElivHRZ_cHub",
        "colab_type": "code",
        "colab": {}
      },
      "cell_type": "code",
      "source": [
        "training, validation = hf.split_frame(ratios = [.8], seed = 11)"
      ],
      "execution_count": 0,
      "outputs": []
    },
    {
      "metadata": {
        "id": "uLQ8BejGLRa-",
        "colab_type": "code",
        "outputId": "f69d41bf-de5f-4dcf-b9d4-b013e9a44bba",
        "colab": {
          "base_uri": "https://localhost:8080/",
          "height": 34
        }
      },
      "cell_type": "code",
      "source": [
        "aml.train(x=x,\n",
        "          y=y,\n",
        "          training_frame=training)"
      ],
      "execution_count": 0,
      "outputs": [
        {
          "output_type": "stream",
          "text": [
            "AutoML progress: |████████████████████████████████████████████████████████| 100%\n"
          ],
          "name": "stdout"
        }
      ]
    },
    {
      "metadata": {
        "id": "3pO5BGetL4ag",
        "colab_type": "code",
        "colab": {}
      },
      "cell_type": "code",
      "source": [
        "best_model = h2o.get_model(aml.leaderboard[0,'model_id'])"
      ],
      "execution_count": 0,
      "outputs": []
    },
    {
      "metadata": {
        "id": "gO1cOcQbOeeT",
        "colab_type": "code",
        "outputId": "9aeedf47-c20c-4df7-8176-241539e99993",
        "colab": {
          "base_uri": "https://localhost:8080/",
          "height": 34
        }
      },
      "cell_type": "code",
      "source": [
        "best_model.algo"
      ],
      "execution_count": 0,
      "outputs": [
        {
          "output_type": "execute_result",
          "data": {
            "text/plain": [
              "'drf'"
            ]
          },
          "metadata": {
            "tags": []
          },
          "execution_count": 16
        }
      ]
    },
    {
      "metadata": {
        "id": "aYkmTIFhOfus",
        "colab_type": "code",
        "outputId": "111047bc-d6c1-4f11-baf3-2ef2fa02590b",
        "colab": {
          "base_uri": "https://localhost:8080/",
          "height": 238
        }
      },
      "cell_type": "code",
      "source": [
        "aml.leaderboard"
      ],
      "execution_count": 0,
      "outputs": [
        {
          "output_type": "display_data",
          "data": {
            "text/html": [
              "<table>\n",
              "<thead>\n",
              "<tr><th>model_id                                     </th><th style=\"text-align: right;\">  mean_per_class_error</th><th style=\"text-align: right;\">  logloss</th><th style=\"text-align: right;\">    rmse</th><th style=\"text-align: right;\">     mse</th></tr>\n",
              "</thead>\n",
              "<tbody>\n",
              "<tr><td>XRT_1_AutoML_20190328_174759                 </td><td style=\"text-align: right;\">              0.525599</td><td style=\"text-align: right;\"> 3.18704 </td><td style=\"text-align: right;\">0.552657</td><td style=\"text-align: right;\">0.30543 </td></tr>\n",
              "<tr><td>GBM_4_AutoML_20190328_174759                 </td><td style=\"text-align: right;\">              0.529909</td><td style=\"text-align: right;\"> 0.883459</td><td style=\"text-align: right;\">0.544976</td><td style=\"text-align: right;\">0.296999</td></tr>\n",
              "<tr><td>DRF_1_AutoML_20190328_174759                 </td><td style=\"text-align: right;\">              0.530412</td><td style=\"text-align: right;\"> 2.94996 </td><td style=\"text-align: right;\">0.548577</td><td style=\"text-align: right;\">0.300936</td></tr>\n",
              "<tr><td>XGBoost_1_AutoML_20190328_174759             </td><td style=\"text-align: right;\">              0.53131 </td><td style=\"text-align: right;\"> 0.808189</td><td style=\"text-align: right;\">0.54466 </td><td style=\"text-align: right;\">0.296655</td></tr>\n",
              "<tr><td>GBM_2_AutoML_20190328_174759                 </td><td style=\"text-align: right;\">              0.533463</td><td style=\"text-align: right;\"> 0.846314</td><td style=\"text-align: right;\">0.541566</td><td style=\"text-align: right;\">0.293294</td></tr>\n",
              "<tr><td>XGBoost_grid_1_AutoML_20190328_175500_model_2</td><td style=\"text-align: right;\">              0.536422</td><td style=\"text-align: right;\"> 1.0767  </td><td style=\"text-align: right;\">0.659189</td><td style=\"text-align: right;\">0.43453 </td></tr>\n",
              "<tr><td>XGBoost_3_AutoML_20190328_174759             </td><td style=\"text-align: right;\">              0.536778</td><td style=\"text-align: right;\"> 0.845723</td><td style=\"text-align: right;\">0.563309</td><td style=\"text-align: right;\">0.317317</td></tr>\n",
              "<tr><td>GBM_grid_1_AutoML_20190328_174759_model_12   </td><td style=\"text-align: right;\">              0.538307</td><td style=\"text-align: right;\"> 0.987466</td><td style=\"text-align: right;\">0.625604</td><td style=\"text-align: right;\">0.391381</td></tr>\n",
              "<tr><td>XGBoost_grid_1_AutoML_20190328_174759_model_2</td><td style=\"text-align: right;\">              0.539836</td><td style=\"text-align: right;\"> 0.96631 </td><td style=\"text-align: right;\">0.617307</td><td style=\"text-align: right;\">0.381068</td></tr>\n",
              "<tr><td>GBM_grid_1_AutoML_20190328_174759_model_1    </td><td style=\"text-align: right;\">              0.53991 </td><td style=\"text-align: right;\"> 1.03088 </td><td style=\"text-align: right;\">0.64263 </td><td style=\"text-align: right;\">0.412973</td></tr>\n",
              "</tbody>\n",
              "</table>"
            ]
          },
          "metadata": {
            "tags": []
          }
        },
        {
          "output_type": "execute_result",
          "data": {
            "text/plain": [
              ""
            ]
          },
          "metadata": {
            "tags": []
          },
          "execution_count": 17
        }
      ]
    },
    {
      "metadata": {
        "id": "WcRd8amTPNiQ",
        "colab_type": "code",
        "colab": {}
      },
      "cell_type": "code",
      "source": [
        "#xgb_train, xgb_test= hf.split_frame([0.8],seed=12345)"
      ],
      "execution_count": 0,
      "outputs": []
    },
    {
      "metadata": {
        "id": "F2TVvZaWPe6p",
        "colab_type": "code",
        "outputId": "b36b9b6b-27f4-4cc1-903f-7c6df079b638",
        "colab": {
          "base_uri": "https://localhost:8080/",
          "height": 34
        }
      },
      "cell_type": "code",
      "source": [
        "predictions=aml.leader.predict(validation)"
      ],
      "execution_count": 0,
      "outputs": [
        {
          "output_type": "stream",
          "text": [
            "drf prediction progress: |████████████████████████████████████████████████| 100%\n"
          ],
          "name": "stdout"
        }
      ]
    },
    {
      "metadata": {
        "id": "lXUYo3fiXkT1",
        "colab_type": "code",
        "colab": {}
      },
      "cell_type": "code",
      "source": [
        "#del hf_predict_values\n",
        "#hf_predict_values= h2o.H2OFrame()\n",
        "#predictions = XGB_model.predict(xgb_test)\n",
        "predictions['Text']= validation['Text']"
      ],
      "execution_count": 0,
      "outputs": []
    },
    {
      "metadata": {
        "id": "mMyPD9V6ZtlO",
        "colab_type": "code",
        "outputId": "a43248ac-3991-4117-988e-fa34ed62c241",
        "colab": {
          "base_uri": "https://localhost:8080/",
          "height": 742
        }
      },
      "cell_type": "code",
      "source": [
        "predictions.head(10)"
      ],
      "execution_count": 0,
      "outputs": [
        {
          "output_type": "display_data",
          "data": {
            "text/html": [
              "<table>\n",
              "<thead>\n",
              "<tr><th>predict  </th><th style=\"text-align: right;\">  negative</th><th style=\"text-align: right;\">  neutral</th><th style=\"text-align: right;\">   positive</th><th>Text                                                                                                                                                                                                                                                                                                                                                                                                                                                                                                                                                                                                                                                                                                                                                                                                                                                                                                                                                                                                                                                                                                                                                                                                                                                                                                                                                                                                                                                                                                                                                                                                                                                                                                                                                                                                                                                                                             </th></tr>\n",
              "</thead>\n",
              "<tbody>\n",
              "<tr><td>neutral  </td><td style=\"text-align: right;\"> 0        </td><td style=\"text-align: right;\"> 0.645161</td><td style=\"text-align: right;\">0.354839   </td><td>Moving on to debt Investing & Lending on Page 10. In the fourth quarter, net revenues from debt securities and loans were $912 million, largely driven by net interest income of roughly $800 million. For the full year, debt Investing & Lending generated $3.8 billion of net revenues, including net interest income of approximately $2.7 billion. I would point out that before accounting for future growth, we begin 2019 with an annualized net interest income run rate of $3.2 billion. Our debt Investing & Lending balance sheet, as shown on the lower left of Page 10, ended the quarter at $113 billion, which includes $94 billion in loans and $11 billion in debt securities. Our lending is franchise adjacent and continues to remain conservative with approximately 85% of our loan portfolio secured as of year-end. This quarter, we took provision for loan losses of $222 million, reflecting loan growth.                                                                                                                                                                                                                                                                                                                                                                                                                                                                                                                                                                                                                                                                                                                                                                                                                                                                                                                                                            </td></tr>\n",
              "<tr><td>neutral  </td><td style=\"text-align: right;\"> 0        </td><td style=\"text-align: right;\"> 0.998811</td><td style=\"text-align: right;\">0.00118906 </td><td>Michael Mayo - Wells Fargo Securities                                                                                                                                                                                                                                                                                                                                                                                                                                                                                                                                                                                                                                                                                                                                                                                                                                                                                                                                                                                                                                                                                                                                                                                                                                                                                                                                                                                                                                                                                                                                                                                                                                                                                                                                                                                                                                                            </td></tr>\n",
              "<tr><td>neutral  </td><td style=\"text-align: right;\"> 0.111008 </td><td style=\"text-align: right;\"> 0.888067</td><td style=\"text-align: right;\">0.000925069</td><td>Glenn Schorr                                                                                                                                                                                                                                                                                                                                                                                                                                                                                                                                                                                                                                                                                                                                                                                                                                                                                                                                                                                                                                                                                                                                                                                                                                                                                                                                                                                                                                                                                                                                                                                                                                                                                                                                                                                                                                                                                     </td></tr>\n",
              "<tr><td>neutral  </td><td style=\"text-align: right;\"> 0        </td><td style=\"text-align: right;\"> 1       </td><td style=\"text-align: right;\">0          </td><td>Your next question is from the line of Michael Carrier with Bank of America Merrill Lynch.                                                                                                                                                                                                                                                                                                                                                                                                                                                                                                                                                                                                                                                                                                                                                                                                                                                                                                                                                                                                                                                                                                                                                                                                                                                                                                                                                                                                                                                                                                                                                                                                                                                                                                                                                                                                       </td></tr>\n",
              "<tr><td>positive </td><td style=\"text-align: right;\"> 0.156647 </td><td style=\"text-align: right;\"> 0       </td><td style=\"text-align: right;\">0.843353   </td><td>Sure. Thanks for the question. I think it's difficult for me to give you a sense of the delta in the [Technical Difficulty] relative to where we carry it. I would ask you to sort of rely more on the progression and the stability and sustainability of this business just in terms of what it has produced for many, many quarters over several years in the context of the investing. And I think that the strength of that franchise and the strength of the investing is sort of an adjacent thread that runs across the whole of the firm, which is that the Investment Banking franchise is an extraordinary sourcing engine off of which we look to make these investments. And we try to find opportunities where there is considerable opportunity for growth. What I sense in your question is the sort of distinction, if you will, between realized and unrealized gain. Part of what I wanted to point out in answering the prior question is that there's a good deal here of realized gain in the book and a continual velocity turn in the portfolio, and sales or partial sales sort of are one part of that. And then looking at the performance of the business is quite another. David and I have committed ourselves, and I've said this now several times, that our ambition is to put more light into the I&L segment, just given what it produces and how it is a major component piece. I know that you asked on the equity side. Let me just spend 2 seconds on the debt side of I&L, which I think has even greater durability and predictability to it. So this is where we are making debt investments or expanding credit in and around the adjacencies of the firm, whether it's the corporates or others who are themselves clients of the firm. We're doing that high up in the capital structure, and we've developed a portfolio that is about 85% secured.</td></tr>\n",
              "<tr><td>neutral  </td><td style=\"text-align: right;\"> 0.28638  </td><td style=\"text-align: right;\"> 0.391472</td><td style=\"text-align: right;\">0.322148   </td><td>Well, we need to bring the Shanghai factory online. I think that's the biggest driver for getting to 500K plus a year. Our car is just very expensive going into China. We've got import duties. We've got transport costs. We've got higher-cost labor here. And we've never been eligible for any of the EV tax credits. A lot of people sort of dependent on incentives. In fact, we are [indiscernible] EVs, we have the least access to incentives. It's pretty crazy because there's so many companies that - countries that have put price caps on the EV incentive, which affects Tesla. And in China, which is the biggest market for EVs, we've never had any subsidies or tax incentives for vehicles.                                                                                                                                                                                                                                                                                                                                                                                                                                                                                                                                                                                                                                                                                                                                                                                                                                                                                                                                                                                                                                                                                                                                                                                </td></tr>\n",
              "<tr><td>positive </td><td style=\"text-align: right;\"> 0.0230355</td><td style=\"text-align: right;\"> 0.273259</td><td style=\"text-align: right;\">0.703706   </td><td>So it's - it is eligible for that. But it sounds like that's going to be reducing in China in the coming years. But, really, bottom line is, we need the Shanghai factory to achieve that 10k rate and other cars be affordable.                                                                                                                                                                                                                                                                                                                                                                                                                                                                                                                                                                                                                                                                                                                                                                                                                                                                                                                                                                                                                                                                                                                                                                                                                                                                                                                                                                                                                                                                                                                                                                                                                                                                 </td></tr>\n",
              "<tr><td>positive </td><td style=\"text-align: right;\"> 0.0196473</td><td style=\"text-align: right;\"> 0.326784</td><td style=\"text-align: right;\">0.653568   </td><td>Absolutely. I mean, we're confident that our CapEx per unit of production for Shanghai factory and for Model Y will be less than half of what we did for Model 3. Internally, we think it might be a quarter but that's probably too good to believe, but it's definitely less than half.                                                                                                                                                                                                                                                                                                                                                                                                                                                                                                                                                                                                                                                                                                                                                                                                                                                                                                                                                                                                                                                                                                                                                                                                                                                                                                                                                                                                                                                                                                                                                                                                        </td></tr>\n",
              "<tr><td>neutral  </td><td style=\"text-align: right;\"> 0        </td><td style=\"text-align: right;\"> 0.998959</td><td style=\"text-align: right;\">0.00104058 </td><td>Our next question comes from David Tamberrino with Goldman Sachs.                                                                                                                                                                                                                                                                                                                                                                                                                                                                                                                                                                                                                                                                                                                                                                                                                                                                                                                                                                                                                                                                                                                                                                                                                                                                                                                                                                                                                                                                                                                                                                                                                                                                                                                                                                                                                                </td></tr>\n",
              "<tr><td>positive </td><td style=\"text-align: right;\"> 0.0123457</td><td style=\"text-align: right;\"> 0.395062</td><td style=\"text-align: right;\">0.592593   </td><td>For Q4, we achieved GAAP profitability, the second quarter for the first time in the company history, and we increased our cash on hand by more than $700 million, even after paying debt [in EMEA] [ph] with the total of $3.7 billion of cash. This means we have enough cash to settle our convertible bond that will mature in March.                                                                                                                                                                                                                                                                                                                                                                                                                                                                                                                                                                                                                                                                                                                                                                                                                                                                                                                                                                                                                                                                                                                                                                                                                                                                                                                                                                                                                                                                                                                                                        </td></tr>\n",
              "</tbody>\n",
              "</table>"
            ]
          },
          "metadata": {
            "tags": []
          }
        },
        {
          "output_type": "execute_result",
          "data": {
            "text/plain": [
              ""
            ]
          },
          "metadata": {
            "tags": []
          },
          "execution_count": 29
        }
      ]
    },
    {
      "metadata": {
        "id": "GTEe-Ds4auvk",
        "colab_type": "code",
        "outputId": "03261101-ae01-4ad6-bd08-d3380b59ed9d",
        "colab": {
          "base_uri": "https://localhost:8080/",
          "height": 34
        }
      },
      "cell_type": "code",
      "source": [
        "h2o.export_file(predictions,path = \"H2O_result.csv\", force=True, parts=1)"
      ],
      "execution_count": 0,
      "outputs": [
        {
          "output_type": "stream",
          "text": [
            "Export File progress: |███████████████████████████████████████████████████| 100%\n"
          ],
          "name": "stdout"
        }
      ]
    },
    {
      "metadata": {
        "id": "9p6bl3KMjDhz",
        "colab_type": "code",
        "outputId": "fe01a65e-3106-44a9-fd05-24b213f9d681",
        "colab": {
          "base_uri": "https://localhost:8080/",
          "height": 152
        }
      },
      "cell_type": "code",
      "source": [
        "confMetrics = aml.leader.model_performance(validation)\n",
        "confMetrics.confusion_matrix()\n"
      ],
      "execution_count": 0,
      "outputs": [
        {
          "output_type": "stream",
          "text": [
            "Confusion Matrix: Row labels: Actual class; Column labels: Predicted class\n",
            "\n"
          ],
          "name": "stdout"
        },
        {
          "output_type": "display_data",
          "data": {
            "text/html": [
              "<div style=\"overflow:auto\"><table style=\"width:50%\"><tr><td><b>negative</b></td>\n",
              "<td><b>neutral</b></td>\n",
              "<td><b>positive</b></td>\n",
              "<td><b>Error</b></td>\n",
              "<td><b>Rate</b></td></tr>\n",
              "<tr><td>12.0</td>\n",
              "<td>10.0</td>\n",
              "<td>12.0</td>\n",
              "<td>0.6470588</td>\n",
              "<td>22 / 34</td></tr>\n",
              "<tr><td>0.0</td>\n",
              "<td>127.0</td>\n",
              "<td>34.0</td>\n",
              "<td>0.2111801</td>\n",
              "<td>34 / 161</td></tr>\n",
              "<tr><td>1.0</td>\n",
              "<td>21.0</td>\n",
              "<td>108.0</td>\n",
              "<td>0.1692308</td>\n",
              "<td>22 / 130</td></tr>\n",
              "<tr><td>13.0</td>\n",
              "<td>158.0</td>\n",
              "<td>154.0</td>\n",
              "<td>0.24</td>\n",
              "<td>78 / 325</td></tr></table></div>"
            ],
            "text/plain": [
              "negative    neutral    positive    Error     Rate\n",
              "----------  ---------  ----------  --------  --------\n",
              "12          10         12          0.647059  22 / 34\n",
              "0           127        34          0.21118   34 / 161\n",
              "1           21         108         0.169231  22 / 130\n",
              "13          158        154         0.24      78 / 325"
            ]
          },
          "metadata": {
            "tags": []
          }
        },
        {
          "output_type": "execute_result",
          "data": {
            "text/plain": [
              ""
            ]
          },
          "metadata": {
            "tags": []
          },
          "execution_count": 28
        }
      ]
    }
  ]
}